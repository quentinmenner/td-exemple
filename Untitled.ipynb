{
 "cells": [
  {
   "cell_type": "markdown",
   "id": "693ca224",
   "metadata": {},
   "source": [
    "# Test\n",
    "Je réalise un test"
   ]
  },
  {
   "cell_type": "code",
   "execution_count": 1,
   "id": "163a4a8c",
   "metadata": {},
   "outputs": [
    {
     "name": "stdout",
     "output_type": "stream",
     "text": [
      "Résultat :  4\n"
     ]
    }
   ],
   "source": [
    "print(\"Résultat : \",2+2)"
   ]
  },
  {
   "cell_type": "code",
   "execution_count": null,
   "id": "06dfc2bd",
   "metadata": {},
   "outputs": [],
   "source": []
  }
 ],
 "metadata": {
  "kernelspec": {
   "display_name": "Python 3",
   "language": "python",
   "name": "python3"
  },
  "language_info": {
   "codemirror_mode": {
    "name": "ipython",
    "version": 3
   },
   "file_extension": ".py",
   "mimetype": "text/x-python",
   "name": "python",
   "nbconvert_exporter": "python",
   "pygments_lexer": "ipython3",
   "version": "3.8.8"
  }
 },
 "nbformat": 4,
 "nbformat_minor": 5
}
